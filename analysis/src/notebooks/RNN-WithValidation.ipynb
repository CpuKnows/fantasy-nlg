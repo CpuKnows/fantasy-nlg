{
 "cells": [
  {
   "cell_type": "code",
   "execution_count": 15,
   "metadata": {},
   "outputs": [],
   "source": [
    "from __future__ import print_function\n",
    "import matplotlib.pyplot as plt\n",
    "import numpy as np\n",
    "import time\n",
    "import csv\n",
    "from keras.models import Sequential\n",
    "from keras.layers.core import Dense, Activation, Dropout\n",
    "from keras.layers.recurrent import LSTM, SimpleRNN\n",
    "from keras.layers.wrappers import TimeDistributed\n"
   ]
  },
  {
   "cell_type": "code",
   "execution_count": 16,
   "metadata": {},
   "outputs": [],
   "source": [
    "DATA_DIR = '../../../analysis/data/nbmodel_templates.csv'\n",
    "BATCH_SIZE = 100\n",
    "HIDDEN_DIM = 200\n",
    "SEQ_LENGTH = 20\n",
    "WEIGHTS = ''\n",
    "\n",
    "GENERATE_LENGTH = 100\n",
    "LAYER_NUM = 2"
   ]
  },
  {
   "cell_type": "code",
   "execution_count": 17,
   "metadata": {},
   "outputs": [
    {
     "name": "stdout",
     "output_type": "stream",
     "text": [
      "Column names are report, report_chunks, template_chunks, templates\n",
      "Processed 1953 lines.\n"
     ]
    }
   ],
   "source": [
    "reports = []\n",
    "\n",
    "with open(DATA_DIR, encoding='utf-8-sig') as csv_file:\n",
    "    csv_reader = csv.reader(csv_file, delimiter=',')\n",
    "    line_count = 0\n",
    "    for row in csv_reader:\n",
    "        if line_count == 0:\n",
    "            print(f'Column names are {\", \".join(row)}')\n",
    "            line_count += 1\n",
    "        else:\n",
    "            reports.append(row[3].replace('\"', '').replace(\"[\", '').replace(']', ''))\n",
    "            line_count += 1\n",
    "    print(f'Processed {line_count} lines.')"
   ]
  },
  {
   "cell_type": "code",
   "execution_count": 18,
   "metadata": {},
   "outputs": [
    {
     "data": {
      "text/plain": [
       "40864"
      ]
     },
     "execution_count": 18,
     "metadata": {},
     "output_type": "execute_result"
    }
   ],
   "source": [
    "data = ' '.join(reports).split(' ')\n",
    "# data = np.array(reports).flatten()\n",
    "# data = ' '.join(data)\n",
    "len(data)"
   ]
  },
  {
   "cell_type": "code",
   "execution_count": 19,
   "metadata": {},
   "outputs": [
    {
     "data": {
      "text/plain": [
       "['${player_name}',\n",
       " 'caught',\n",
       " '${receptions}',\n",
       " 'passes',\n",
       " 'for',\n",
       " '${rec_yards}',\n",
       " 'yards',\n",
       " 'and',\n",
       " 'a',\n",
       " 'touchdown']"
      ]
     },
     "execution_count": 19,
     "metadata": {},
     "output_type": "execute_result"
    }
   ],
   "source": [
    "data[:10]"
   ]
  },
  {
   "cell_type": "code",
   "execution_count": 20,
   "metadata": {},
   "outputs": [
    {
     "name": "stdout",
     "output_type": "stream",
     "text": [
      "Unique Words:\n",
      "['', '${pass_td}', 'field', 'have', 'rolled', '${team}.', '(foot)', 'running', 'into', 'rumbled', 'passes', '27', 'career-high', 'catching', '${team_score}-${opp_score},', 'efficiently', 'bulldozed', 'touchdowns,', \"Achilles'\", 'interceptions', 'the', 'back', 'reception.', 'missed', 'ruptured', 'logged', '41', 'yards.', '11', 'London,', '${opp_score}', 'against', 'while', 'demolition', 'carries.', 'way', 'Sundays', 'feared', 'times', 'Undrafted', 'additional', '6', '36', 'earned', 'contributed', 'out', 'added', '${opp_score}-${team_score},', '2018', 'week', 'Fitzpatrick', '13', 'snagging', \"night's\", '5', 'catches', 'haul', 'tendon', 'from', 'picks', 'hauling', \"Buffalo's\", 'Thanksgiving', '76', 'tension', 'pick', 'Niners.', 'before', 'pickup', 'soaked', 'Making', '${game_dow}', 'production', \"Steelers'\", 'rushes', 'Hunter', 'McCarthy.', '3', 'adding', 'listed', 'Justin', '${week}', 'also', '95', 'delivered', '37', 'fractured', '16', \"Falcons'\", 'combined', 'drubbing', \"Patriots'\", 'recorded', 'string', '${team_score}-${opp_score}.', '9', 'offense', 'tacking', 'Elijah', '304', \"Rams'\", \"Vikings'\", 'versus', 'ruled', 'through', 'starter', 'interception', '${week}.', \"Seattle's\", 'without', 'second', 'good', 'Jets', 'nabbed', 'NFL', 'concussion', '${pass_int}', '${opp}', 'chipped', 'loss.', 'fumble', 'torn', \"Chargers'\", 'registered', 'secured', 'reeled', \"didn't\", 'conversion.', 'touchdowin', 'dreadful', 'carried', '${pass_yards}', 'between', '21', 'a', \"L.A.'s\", 'relief', 'Taylor', 'earning', 'forced', '158', 'went', 'contributing', 'return.', 'pick-up', 'receptions', 'team-record', 'mauling', 'grabs', 'winning', 'needed', 'over', 'once', 'reel', 'carry.', 'score.', '100', 'Leonard', 'target', 'time', 'chipping', 'targeted', 'quarter', \"${game_dow}'s\", '(ankle)', 'turning', 'carted', \"Redskins'\", 'twice', '${rec_yards}', '${opp}.', 'place', 'scrounged', 'collected', 'season-high', 'fought', 'measly', '${opp_score}-${rec_yards},', 'delivering', '32', 'following', \"Bears'\", \"Dolphins'\", 'just', \"49ers'\", 'scamper', 'Losing', 'punches.', 'remainder', \"Buccaneeers'\", 'third', 'destruction', 'catch-less', 'comeback', \"Bills'\", '351', 'being', '${rec_targets}', '44', 'victory.', 'scampering', '${pass_attempts}', 'ground.', 'pass', 'tallied', '(hamstring)', '48', 'blowout', 'scores.', 'potential', 'point', 'X-rays', 'fumble.', \"Browns'\", 'touch', 'that', 'yards', 'touchdown', 'quarterback.', 'any', '20', '7', 'LB', 'corralled', 'was', 'reception', 'only', 'turned', 'off', 'game-winning', 'Fournette', 'taking', 'day.', 'targets', 'throwing', 'snagged', 'team-leading', 'first', 'day', 'basically', 'Thanksgiving.', 'complete', 'ball', 'remains', 'accrued', 'fell', 'rushing', 'nail-biting', 'attempts', '${team_score}-${opp_score}', 'improbable', 'had', 'CEO', 'victory', 'took', 'pass.', 'either', 'air', 'absorbed', 'limited', 'president', '${rush_yards}', \"team's\", '14', 'touchdowns.', 'started', 'additionally', 'touchdowns', 'injured', 'rushed', '12', 'both', 'in', 'collecting', 'near-comeback', 'finished', '4', 'is', 'quarter.', 'pulled', 'carry', \"Giants'\", 'thumb', 'Tyrod', 'competed', 'not', 'Mark', 'but', 'did', 'tibia.', 'made', 'concussion.', 'receiving', 'record', 'season', 'handled', 'win.', '23', 'received', '117', 'to', 'walk', 'vacuumed', '91', 'gained', 'grab', 'week.', 'corralling', 'ground', 'ridiculous', 'team-high', 'abysmal', 'of', '${week},', 'On', 'trouncing', 'romp', 'London', 'lack', '2', 'brought', '294', 'conversion', \"Eagles'\", 'at', 'as', 'scoreless', '(chest)', 'Cody', 'gathered', 'punt', 'heart-breaking', '${team_score}-14', 'on', \"Indianapolis'\", 'supplying', 'after', '${opp_score}-${team_score}', 'defeat', 'come-from-behind', 'gaining', 'catch', 'scratch', 'down', '17', 'seat', 'shoving', '15', \"Seahawks'\", 'grabbed', 'sacks.', 'thankfully', \"Colts'\", '55', '(knee)', 'starting', 'suffered', 'notched', 'by', '25', 'measure', 'lone', 'yards,', '31-${team_score},', '1', 'touchdown,', '38', '143', 'converting', 'tacked', 'Mike', 'night,', 'converted', 'left', 'corral', 'romping', '52', 'Kansas', 'sprained', 'hauled', 'win', 'cruised', 'committed', \"Cowboys'\", 'grabbing', 'rush.', 'Lee.', '${player_name}', '33', \"Texans'\", \"Lions'\", 'been', 'score', '${receptions}', 'all', \"${team}'s\", \"Washington's\", \"Saints'\", 'up', '377', 'rookie', 'patella', 'fourth-round', 'lost', 'give-up', 'Vance', 'loss', \"Jets'\", 'scores', 'carries', 'half', 'and', '354', 'with', 'another', 'activated', '${pass_completions}', 'produced', 'compiled', \"${team}'\", 'his', '83', '(concussion),', 'end', \"couldn't\", 'carries,', 'has', 'trapped', 'producing', 'or', 'fumbles.', 'ejected', 'Monday.', 'managed', 'broke', 'Jameis', 'exploded', 'fourth', 'offense.', \"Raiders'\", 'pulling', '${team}', 'returned', 'done', 'Coach', 'failing', 'failed', \"Ravens'\", 'possible', 'for', 'around.', 'halftime.', 'tie', 'Ryan', '${rush_td}', 'will', 'replaced', 'MRI', 'night.', 'pair', 'big', 'racked', 'game', 'caught', 'kick-return', 'Kessler', '40', 'no', 'be', 'losing', 'yard', 'return', 'punch.', 'blew', '26', 'debut.', 'completed', \"Titans'\", \"Jaguars'\", 'gain', 'opener.', 'Jagaurs.', 'reserve.', '(Achilles)', 'park', 'targets.', 'came', 'diagnosed', 'overtime', 'attempts.', 'coach', 'negative-2', 'departing', '22', 'healthy', 'fibula', 'nabbing', 'easy', 'supplied', 'undergo', 'netted', '66', 'score,', '10', 'negative-1', 'rush', 'clenched', 'held', \"Broncos'\", 'debut,', 'loss,', '(head)', 'Joseph', 'securing', 'warming', 'stomping', 'each', '${opp},', 'totaled', '${player_position}', \"Packers'\", \"Panthers'\", '34', '93', 'Murphy', 'rout', 'touchdown.', 'scores,', 'heartbreaking', 'leaving', 'benched', 'downplayed', '8', 'play', '${rec_td}', 'snaring', '${rush_attempts}', 'along', 'an', 'passing', \"City's\", 'Winston', \"Chiefs'\", 'upset', 'start', 'Browns', 'single', 'empty', '${game_dow}.', \"Niners'\"]\n",
      "\n",
      "VOCAB_SIZE: 550\n"
     ]
    }
   ],
   "source": [
    "chars = list(set(data)) #set: gets unique values\n",
    "VOCAB_SIZE = len(chars)\n",
    "\n",
    "print('Unique Words:\\n{}\\n\\nVOCAB_SIZE: {}'.format(chars, VOCAB_SIZE))"
   ]
  },
  {
   "cell_type": "code",
   "execution_count": 21,
   "metadata": {},
   "outputs": [],
   "source": [
    "idx_to_char = {i: char for i, char in enumerate(chars)}\n",
    "char_to_idx = {char: i for i, char in enumerate(chars)}"
   ]
  },
  {
   "cell_type": "code",
   "execution_count": 22,
   "metadata": {},
   "outputs": [],
   "source": [
    "import numpy as np\n",
    "\n",
    "N_FEATURES = VOCAB_SIZE #one hot encoding here, that's why, but deduplicated for clarity\n",
    "\n",
    "N_SEQ = int(np.floor((len(data) - 1) / SEQ_LENGTH))\n",
    "\n",
    "X = np.zeros((N_SEQ, SEQ_LENGTH, N_FEATURES))\n",
    "y = np.zeros((N_SEQ, SEQ_LENGTH, N_FEATURES))\n",
    "\n",
    "for i in range(N_SEQ):\n",
    "  X_sequence = data[i * SEQ_LENGTH: (i + 1) * SEQ_LENGTH]\n",
    "  X_sequence_ix = [char_to_idx[c] for c in X_sequence]\n",
    "  input_sequence = np.zeros((SEQ_LENGTH, N_FEATURES))\n",
    "  for j in range(SEQ_LENGTH):\n",
    "    input_sequence[j][X_sequence_ix[j]] = 1. #one-hot encoding of the input characters\n",
    "  X[i] = input_sequence\n",
    "  \n",
    "  y_sequence = data[i * SEQ_LENGTH + 1: (i + 1) * SEQ_LENGTH + 1] #shifted by 1 to the right\n",
    "  y_sequence_ix = [char_to_idx[c] for c in y_sequence]\n",
    "  target_sequence = np.zeros((SEQ_LENGTH, N_FEATURES))\n",
    "  for j in range(SEQ_LENGTH):\n",
    "    target_sequence[j][y_sequence_ix[j]] = 1. #one-hot encoding of the target characters\n",
    "  y[i] = target_sequence"
   ]
  },
  {
   "cell_type": "code",
   "execution_count": 23,
   "metadata": {},
   "outputs": [],
   "source": [
    "from keras.models import Sequential\n",
    "from keras.layers import CuDNNLSTM, TimeDistributed, Dense, Activation\n",
    "\n",
    "# constant parameter for the model\n",
    "HIDDEN_DIM = 700 #size of each hidden layer, \"each layer has 700 hidden states\"\n",
    "LAYER_NUM = 2 #number of hidden layers, how much were used?\n",
    "\n",
    "model = Sequential()\n",
    "model.add(LSTM(HIDDEN_DIM, \n",
    "               input_shape=(None, VOCAB_SIZE), \n",
    "               return_sequences=True))\n",
    "for _ in range(LAYER_NUM - 1):\n",
    "  model.add(LSTM(HIDDEN_DIM, return_sequences=True))\n",
    "model.add(TimeDistributed(Dense(VOCAB_SIZE)))\n",
    "model.add(Activation('softmax'))\n",
    "model.compile(loss='categorical_crossentropy', optimizer='rmsprop', metrics=['acc'])"
   ]
  },
  {
   "cell_type": "code",
   "execution_count": 69,
   "metadata": {},
   "outputs": [],
   "source": [
    "def generate_text(model, length):\n",
    "  ix = [np.random.randint(VOCAB_SIZE)]\n",
    "  y_char = [idx_to_char[ix[-1]]]\n",
    "  X = np.zeros((1, length, VOCAB_SIZE))\n",
    "  for i in range(length):\n",
    "    X[0, i, :][ix[-1]] = 1.\n",
    "    ix = np.argmax(model.predict(X[:, :i+1,:])[0], 1)\n",
    "#     print(idx_to_char[ix[-1]], end=\" \")\n",
    "    y_char.append(idx_to_char[ix[-1]])\n",
    "  return ' '.join(y_char).split('.')"
   ]
  },
  {
   "cell_type": "code",
   "execution_count": 48,
   "metadata": {},
   "outputs": [],
   "source": [
    "from keras.callbacks import EarlyStopping, ModelCheckpoint, Callback\n",
    "# callback to save the model if better\n",
    "filepath=\"tgt_model.hdf5\"\n",
    "save_model_cb = ModelCheckpoint(filepath, monitor='val_acc', verbose=1, save_best_only=True, mode='max')\n",
    "# callback to stop the training if no improvement\n",
    "early_stopping_cb = EarlyStopping(monitor='val_loss', patience=10)\n",
    "# callback to generate text at epoch end\n",
    "class generateText(Callback):\n",
    "    def on_epoch_end(self, batch, logs={}):\n",
    "        if batch+1 % 10 == 0:\n",
    "            print(generate_text(self.model, GENERATE_LENGTH))\n",
    "        \n",
    "generate_text_cb = generateText()\n",
    "\n",
    "callbacks_list = [save_model_cb, early_stopping_cb, generate_text_cb]"
   ]
  },
  {
   "cell_type": "code",
   "execution_count": 47,
   "metadata": {},
   "outputs": [
    {
     "name": "stdout",
     "output_type": "stream",
     "text": [
      "Train on 1838 samples, validate on 205 samples\n",
      "Epoch 1/200\n",
      "1838/1838 [==============================] - 5s 3ms/step - loss: 0.2469 - acc: 0.9093 - val_loss: 0.9302 - val_acc: 0.7978\n",
      "\n",
      "Epoch 00001: val_acc improved from -inf to 0.79780, saving model to tgt_model.hdf5\n",
      "Epoch 2/200\n",
      "1838/1838 [==============================] - 5s 3ms/step - loss: 0.2388 - acc: 0.9121 - val_loss: 0.8997 - val_acc: 0.8029\n",
      "\n",
      "Epoch 00002: val_acc improved from 0.79780 to 0.80293, saving model to tgt_model.hdf5\n",
      "Epoch 3/200\n",
      "1838/1838 [==============================] - 5s 3ms/step - loss: 0.2374 - acc: 0.9122 - val_loss: 0.8918 - val_acc: 0.8046\n",
      "\n",
      "Epoch 00003: val_acc improved from 0.80293 to 0.80463, saving model to tgt_model.hdf5\n",
      "Epoch 4/200\n",
      "1838/1838 [==============================] - 5s 3ms/step - loss: 0.2364 - acc: 0.9122 - val_loss: 0.8875 - val_acc: 0.8080\n",
      "\n",
      "Epoch 00004: val_acc improved from 0.80463 to 0.80805, saving model to tgt_model.hdf5\n",
      "Epoch 5/200\n",
      "1838/1838 [==============================] - 5s 3ms/step - loss: 0.2339 - acc: 0.9122 - val_loss: 0.9184 - val_acc: 0.8010\n",
      "\n",
      "Epoch 00005: val_acc did not improve from 0.80805\n",
      "Epoch 6/200\n",
      "1838/1838 [==============================] - 5s 3ms/step - loss: 0.2332 - acc: 0.9124 - val_loss: 0.9267 - val_acc: 0.8012\n",
      "\n",
      "Epoch 00006: val_acc did not improve from 0.80805\n",
      "Epoch 7/200\n",
      "1838/1838 [==============================] - 5s 3ms/step - loss: 0.2325 - acc: 0.9116 - val_loss: 0.9272 - val_acc: 0.8029\n",
      "\n",
      "Epoch 00007: val_acc did not improve from 0.80805\n",
      "Epoch 8/200\n",
      "1838/1838 [==============================] - 5s 3ms/step - loss: 0.2324 - acc: 0.9122 - val_loss: 0.9387 - val_acc: 0.8022\n",
      "\n",
      "Epoch 00008: val_acc did not improve from 0.80805\n",
      "Epoch 9/200\n",
      "1838/1838 [==============================] - 5s 3ms/step - loss: 0.2295 - acc: 0.9123 - val_loss: 0.9343 - val_acc: 0.8076\n",
      "\n",
      "Epoch 00009: val_acc did not improve from 0.80805\n",
      "Epoch 10/200\n",
      "1838/1838 [==============================] - 5s 3ms/step - loss: 0.2287 - acc: 0.9125 - val_loss: 0.9455 - val_acc: 0.8027\n",
      "\n",
      "Epoch 00010: val_acc did not improve from 0.80805\n",
      "Epoch 11/200\n",
      "1838/1838 [==============================] - 5s 3ms/step - loss: 0.2287 - acc: 0.9137 - val_loss: 0.9402 - val_acc: 0.8078\n",
      "\n",
      "Epoch 00011: val_acc did not improve from 0.80805\n",
      "Epoch 12/200\n",
      "1838/1838 [==============================] - 5s 3ms/step - loss: 0.2258 - acc: 0.9134 - val_loss: 0.9382 - val_acc: 0.8080\n",
      "\n",
      "Epoch 00012: val_acc did not improve from 0.80805\n",
      "Epoch 13/200\n",
      "1838/1838 [==============================] - 5s 3ms/step - loss: 0.2253 - acc: 0.9145 - val_loss: 0.9470 - val_acc: 0.8051\n",
      "\n",
      "Epoch 00013: val_acc did not improve from 0.80805\n",
      "Epoch 14/200\n",
      "1838/1838 [==============================] - 5s 3ms/step - loss: 0.2246 - acc: 0.9129 - val_loss: 0.9583 - val_acc: 0.8015\n",
      "\n",
      "Epoch 00014: val_acc did not improve from 0.80805\n",
      "Epoch 15/200\n",
      "1838/1838 [==============================] - 5s 3ms/step - loss: 0.2244 - acc: 0.9139 - val_loss: 0.9464 - val_acc: 0.8054\n",
      "\n",
      "Epoch 00015: val_acc did not improve from 0.80805\n",
      "Epoch 16/200\n",
      "1838/1838 [==============================] - 5s 3ms/step - loss: 0.2234 - acc: 0.9141 - val_loss: 0.9679 - val_acc: 0.8054\n",
      "\n",
      "Epoch 00016: val_acc did not improve from 0.80805\n",
      "Epoch 17/200\n",
      "1838/1838 [==============================] - 5s 3ms/step - loss: 0.2232 - acc: 0.9143 - val_loss: 0.9473 - val_acc: 0.8010\n",
      "\n",
      "Epoch 00017: val_acc did not improve from 0.80805\n",
      "Epoch 18/200\n",
      "1100/1838 [================>.............] - ETA: 1s - loss: 0.2159 - acc: 0.9151"
     ]
    },
    {
     "ename": "KeyboardInterrupt",
     "evalue": "",
     "output_type": "error",
     "traceback": [
      "\u001b[1;31m---------------------------------------------------------------------------\u001b[0m",
      "\u001b[1;31mKeyboardInterrupt\u001b[0m                         Traceback (most recent call last)",
      "\u001b[1;32m<ipython-input-47-62fb5af239d9>\u001b[0m in \u001b[0;36m<module>\u001b[1;34m()\u001b[0m\n\u001b[0;32m      4\u001b[0m \u001b[1;33m\u001b[0m\u001b[0m\n\u001b[0;32m      5\u001b[0m model.fit(X, y, batch_size=BATCH_SIZE, verbose=1, epochs=NB_EPOCHS, \n\u001b[1;32m----> 6\u001b[1;33m           callbacks=callbacks_list, validation_split=VALIDATION_SPLIT)\n\u001b[0m",
      "\u001b[1;32mc:\\program files (x86)\\microsoft visual studio\\shared\\python36_64\\lib\\site-packages\\keras\\engine\\training.py\u001b[0m in \u001b[0;36mfit\u001b[1;34m(self, x, y, batch_size, epochs, verbose, callbacks, validation_split, validation_data, shuffle, class_weight, sample_weight, initial_epoch, steps_per_epoch, validation_steps, **kwargs)\u001b[0m\n\u001b[0;32m   1037\u001b[0m                                         \u001b[0minitial_epoch\u001b[0m\u001b[1;33m=\u001b[0m\u001b[0minitial_epoch\u001b[0m\u001b[1;33m,\u001b[0m\u001b[1;33m\u001b[0m\u001b[0m\n\u001b[0;32m   1038\u001b[0m                                         \u001b[0msteps_per_epoch\u001b[0m\u001b[1;33m=\u001b[0m\u001b[0msteps_per_epoch\u001b[0m\u001b[1;33m,\u001b[0m\u001b[1;33m\u001b[0m\u001b[0m\n\u001b[1;32m-> 1039\u001b[1;33m                                         validation_steps=validation_steps)\n\u001b[0m\u001b[0;32m   1040\u001b[0m \u001b[1;33m\u001b[0m\u001b[0m\n\u001b[0;32m   1041\u001b[0m     def evaluate(self, x=None, y=None,\n",
      "\u001b[1;32mc:\\program files (x86)\\microsoft visual studio\\shared\\python36_64\\lib\\site-packages\\keras\\engine\\training_arrays.py\u001b[0m in \u001b[0;36mfit_loop\u001b[1;34m(model, f, ins, out_labels, batch_size, epochs, verbose, callbacks, val_f, val_ins, shuffle, callback_metrics, initial_epoch, steps_per_epoch, validation_steps)\u001b[0m\n\u001b[0;32m    197\u001b[0m                     \u001b[0mins_batch\u001b[0m\u001b[1;33m[\u001b[0m\u001b[0mi\u001b[0m\u001b[1;33m]\u001b[0m \u001b[1;33m=\u001b[0m \u001b[0mins_batch\u001b[0m\u001b[1;33m[\u001b[0m\u001b[0mi\u001b[0m\u001b[1;33m]\u001b[0m\u001b[1;33m.\u001b[0m\u001b[0mtoarray\u001b[0m\u001b[1;33m(\u001b[0m\u001b[1;33m)\u001b[0m\u001b[1;33m\u001b[0m\u001b[0m\n\u001b[0;32m    198\u001b[0m \u001b[1;33m\u001b[0m\u001b[0m\n\u001b[1;32m--> 199\u001b[1;33m                 \u001b[0mouts\u001b[0m \u001b[1;33m=\u001b[0m \u001b[0mf\u001b[0m\u001b[1;33m(\u001b[0m\u001b[0mins_batch\u001b[0m\u001b[1;33m)\u001b[0m\u001b[1;33m\u001b[0m\u001b[0m\n\u001b[0m\u001b[0;32m    200\u001b[0m                 \u001b[0mouts\u001b[0m \u001b[1;33m=\u001b[0m \u001b[0mto_list\u001b[0m\u001b[1;33m(\u001b[0m\u001b[0mouts\u001b[0m\u001b[1;33m)\u001b[0m\u001b[1;33m\u001b[0m\u001b[0m\n\u001b[0;32m    201\u001b[0m                 \u001b[1;32mfor\u001b[0m \u001b[0ml\u001b[0m\u001b[1;33m,\u001b[0m \u001b[0mo\u001b[0m \u001b[1;32min\u001b[0m \u001b[0mzip\u001b[0m\u001b[1;33m(\u001b[0m\u001b[0mout_labels\u001b[0m\u001b[1;33m,\u001b[0m \u001b[0mouts\u001b[0m\u001b[1;33m)\u001b[0m\u001b[1;33m:\u001b[0m\u001b[1;33m\u001b[0m\u001b[0m\n",
      "\u001b[1;32mc:\\program files (x86)\\microsoft visual studio\\shared\\python36_64\\lib\\site-packages\\keras\\backend\\tensorflow_backend.py\u001b[0m in \u001b[0;36m__call__\u001b[1;34m(self, inputs)\u001b[0m\n\u001b[0;32m   2713\u001b[0m                 \u001b[1;32mreturn\u001b[0m \u001b[0mself\u001b[0m\u001b[1;33m.\u001b[0m\u001b[0m_legacy_call\u001b[0m\u001b[1;33m(\u001b[0m\u001b[0minputs\u001b[0m\u001b[1;33m)\u001b[0m\u001b[1;33m\u001b[0m\u001b[0m\n\u001b[0;32m   2714\u001b[0m \u001b[1;33m\u001b[0m\u001b[0m\n\u001b[1;32m-> 2715\u001b[1;33m             \u001b[1;32mreturn\u001b[0m \u001b[0mself\u001b[0m\u001b[1;33m.\u001b[0m\u001b[0m_call\u001b[0m\u001b[1;33m(\u001b[0m\u001b[0minputs\u001b[0m\u001b[1;33m)\u001b[0m\u001b[1;33m\u001b[0m\u001b[0m\n\u001b[0m\u001b[0;32m   2716\u001b[0m         \u001b[1;32melse\u001b[0m\u001b[1;33m:\u001b[0m\u001b[1;33m\u001b[0m\u001b[0m\n\u001b[0;32m   2717\u001b[0m             \u001b[1;32mif\u001b[0m \u001b[0mpy_any\u001b[0m\u001b[1;33m(\u001b[0m\u001b[0mis_tensor\u001b[0m\u001b[1;33m(\u001b[0m\u001b[0mx\u001b[0m\u001b[1;33m)\u001b[0m \u001b[1;32mfor\u001b[0m \u001b[0mx\u001b[0m \u001b[1;32min\u001b[0m \u001b[0minputs\u001b[0m\u001b[1;33m)\u001b[0m\u001b[1;33m:\u001b[0m\u001b[1;33m\u001b[0m\u001b[0m\n",
      "\u001b[1;32mc:\\program files (x86)\\microsoft visual studio\\shared\\python36_64\\lib\\site-packages\\keras\\backend\\tensorflow_backend.py\u001b[0m in \u001b[0;36m_call\u001b[1;34m(self, inputs)\u001b[0m\n\u001b[0;32m   2673\u001b[0m             \u001b[0mfetched\u001b[0m \u001b[1;33m=\u001b[0m \u001b[0mself\u001b[0m\u001b[1;33m.\u001b[0m\u001b[0m_callable_fn\u001b[0m\u001b[1;33m(\u001b[0m\u001b[1;33m*\u001b[0m\u001b[0marray_vals\u001b[0m\u001b[1;33m,\u001b[0m \u001b[0mrun_metadata\u001b[0m\u001b[1;33m=\u001b[0m\u001b[0mself\u001b[0m\u001b[1;33m.\u001b[0m\u001b[0mrun_metadata\u001b[0m\u001b[1;33m)\u001b[0m\u001b[1;33m\u001b[0m\u001b[0m\n\u001b[0;32m   2674\u001b[0m         \u001b[1;32melse\u001b[0m\u001b[1;33m:\u001b[0m\u001b[1;33m\u001b[0m\u001b[0m\n\u001b[1;32m-> 2675\u001b[1;33m             \u001b[0mfetched\u001b[0m \u001b[1;33m=\u001b[0m \u001b[0mself\u001b[0m\u001b[1;33m.\u001b[0m\u001b[0m_callable_fn\u001b[0m\u001b[1;33m(\u001b[0m\u001b[1;33m*\u001b[0m\u001b[0marray_vals\u001b[0m\u001b[1;33m)\u001b[0m\u001b[1;33m\u001b[0m\u001b[0m\n\u001b[0m\u001b[0;32m   2676\u001b[0m         \u001b[1;32mreturn\u001b[0m \u001b[0mfetched\u001b[0m\u001b[1;33m[\u001b[0m\u001b[1;33m:\u001b[0m\u001b[0mlen\u001b[0m\u001b[1;33m(\u001b[0m\u001b[0mself\u001b[0m\u001b[1;33m.\u001b[0m\u001b[0moutputs\u001b[0m\u001b[1;33m)\u001b[0m\u001b[1;33m]\u001b[0m\u001b[1;33m\u001b[0m\u001b[0m\n\u001b[0;32m   2677\u001b[0m \u001b[1;33m\u001b[0m\u001b[0m\n",
      "\u001b[1;32mc:\\program files (x86)\\microsoft visual studio\\shared\\python36_64\\lib\\site-packages\\tensorflow\\python\\client\\session.py\u001b[0m in \u001b[0;36m__call__\u001b[1;34m(self, *args, **kwargs)\u001b[0m\n\u001b[0;32m   1437\u001b[0m           ret = tf_session.TF_SessionRunCallable(\n\u001b[0;32m   1438\u001b[0m               \u001b[0mself\u001b[0m\u001b[1;33m.\u001b[0m\u001b[0m_session\u001b[0m\u001b[1;33m.\u001b[0m\u001b[0m_session\u001b[0m\u001b[1;33m,\u001b[0m \u001b[0mself\u001b[0m\u001b[1;33m.\u001b[0m\u001b[0m_handle\u001b[0m\u001b[1;33m,\u001b[0m \u001b[0margs\u001b[0m\u001b[1;33m,\u001b[0m \u001b[0mstatus\u001b[0m\u001b[1;33m,\u001b[0m\u001b[1;33m\u001b[0m\u001b[0m\n\u001b[1;32m-> 1439\u001b[1;33m               run_metadata_ptr)\n\u001b[0m\u001b[0;32m   1440\u001b[0m         \u001b[1;32mif\u001b[0m \u001b[0mrun_metadata\u001b[0m\u001b[1;33m:\u001b[0m\u001b[1;33m\u001b[0m\u001b[0m\n\u001b[0;32m   1441\u001b[0m           \u001b[0mproto_data\u001b[0m \u001b[1;33m=\u001b[0m \u001b[0mtf_session\u001b[0m\u001b[1;33m.\u001b[0m\u001b[0mTF_GetBuffer\u001b[0m\u001b[1;33m(\u001b[0m\u001b[0mrun_metadata_ptr\u001b[0m\u001b[1;33m)\u001b[0m\u001b[1;33m\u001b[0m\u001b[0m\n",
      "\u001b[1;31mKeyboardInterrupt\u001b[0m: "
     ]
    }
   ],
   "source": [
    "NB_EPOCHS = 200 #max number of epochs to train, \"200 epochs\"\n",
    "BATCH_SIZE = 100\n",
    "VALIDATION_SPLIT = 0.1 #proportion of the batch used for validation at each epoch\n",
    "\n",
    "model.fit(X, y, batch_size=BATCH_SIZE, verbose=1, epochs=NB_EPOCHS, \n",
    "          callbacks=callbacks_list, validation_split=VALIDATION_SPLIT)"
   ]
  },
  {
   "cell_type": "code",
   "execution_count": 70,
   "metadata": {},
   "outputs": [],
   "source": [
    "output = generate_text(model, 2000)"
   ]
  },
  {
   "cell_type": "code",
   "execution_count": 71,
   "metadata": {},
   "outputs": [
    {
     "data": {
      "text/plain": [
       "[\" ${player_name} rushed a ${rec_yards} yard in the ${team}' week ${week} ${player_name} ${player_name} a touchdowns in the ${team}' week ${week} win the the ${team}' week ${week} win over the ${opp}\",\n",
       " ' ${player_name} rushed ${rush_attempts} times for ${rush_yards} yards and in the of week ${week} against the ${opp}',\n",
       " \" ${player_name} rushed ${rush_attempts} times for ${rush_yards} yards and hauled in ${receptions} of ${rec_targets} targets for ${rec_yards} yards in the ${team}' week ${week} win over the ${opp}\",\n",
       " \" ${player_name} caught ${receptions} of ${rec_targets} targets for ${rec_yards} yards and a touchdown in the ${team}' week ${week} loss to the ${opp}\",\n",
       " \" ${player_name} rushed ${rush_attempts} times for ${rush_yards} yards and a touchdown in the ${team}' week ${week} win over the the ${player_name} ${player_name} ${player_name} in the ${team}' week ${week} ${player_name} hauled in ${receptions} of his targets for week ${week} ${week} in the week week ${player_name} ${player_name} in ${receptions} of ${rec_targets} week ${week} ${week} yards in the week ${week} win over the ${opp}\",\n",
       " \" ${player_name} caught ${receptions} of ${rec_targets} targets for ${rec_yards} yards in ${game_dow}'s week ${week} win over the ${opp}\",\n",
       " \" ${player_name} caught ${receptions} of ${rec_targets} targets for ${rec_yards} yards in the ${team}' week ${week} win over the ${opp}\",\n",
       " \" ${player_name} completed of of touchdowns and ${pass_int} touchdowns in week ${week} against the ${team}' week week week ${week} win the the ${team}' week week ${week} win the the ${team}' week week ${week} win the the ${team}' week week week win win the the ${team}' week week week win over the ${opp}\",\n",
       " \" ${player_name} rushed ${rush_attempts} times for ${rush_yards} yards in the ${team}' week ${week} win ${player_name} caught ${receptions} of ${rec_targets} targets for ${rec_yards} yards and a touchdown in the ${team}' week ${week} win over the ${opp}\",\n",
       " \" ${player_name} hauled in ${receptions} of ${rec_targets} targets for ${rec_yards} yards in the ${team}' week ${week} win win the ${opp}\",\n",
       " \" ${player_name} hauled in ${receptions} of ${rec_targets} targets for ${rec_yards} yards and a touchdown in the ${team}' week ${week} win over the ${opp}\",\n",
       " \" ${player_name} rushed ${rush_attempts} times for ${rush_yards} yards and caught ${receptions} of ${rec_targets} targets for ${rec_yards} yards in the ${team}' week ${week} win over the ${opp}\",\n",
       " ' ${player_name} rushed ${rush_attempts} times for ${rush_yards} yards and caught ${receptions} of ${rec_targets} targets for ${rec_yards} ${rec_yards} in in week ${week} against the ${opp}',\n",
       " ' ${player_name} rushed ${rush_attempts} times for ${rush_yards} yards and a touchdown in the week ${week} against the ${opp}',\n",
       " \" ${player_name} caught ${receptions} of ${rec_targets} targets for ${rec_yards} yards in the ${team}' week ${week} loss to the ${opp}\",\n",
       " ' ${player_name} rushed ${rush_attempts} times for ${rush_yards} yards and caught ${receptions} of ${rec_targets} targets in ${rec_yards} in in week ${week} win win the ${opp}',\n",
       " \" ${player_name} completed ${pass_completions} of ${pass_attempts} passes for ${pass_yards} yards, ${pass_td} touchdowns and an interception in the ${team}' week ${week} win win the ${opp}\",\n",
       " \" ${player_name} rushed ${rush_attempts} carries for ${rush_yards} yards and caught ${receptions} of ${rec_targets} targets for ${rec_yards} yards and ${rec_td} touchdown in the ${team}' week ${week} win over the ${opp}\",\n",
       " \" ${player_name} completed of of ${rec_targets} targets for ${rec_yards} yards the ${team}' week ${week} win over the ${opp}\",\n",
       " \" ${player_name} rushed ${rush_attempts} times for ${rush_yards} yards and caught both of his targets for ${rec_yards} yards in the ${team}' week ${week} win over the ${opp}\",\n",
       " \"team's the ${team}' week ${week} loss to the ${opp}\",\n",
       " \" ${player_name} rushed a ${rec_yards} yard and touchdown in the ${team}' week ${week} win over the ${opp}\",\n",
       " \" ${player_name} completed ${pass_completions} of ${pass_attempts} passes for ${pass_yards} yards and a touchdown in the ${team}' week ${week} win over the ${opp}\",\n",
       " \" ${player_name} rushed ${rush_attempts} ${rush_yards} ${rush_yards} yards in the the ${team}' week of of the the ${player_name} of of of for for for ${rec_yards} yards and a touchdown in the ${team}' week ${week} win over the ${opp}\",\n",
       " \" ${player_name} rushed ${rush_attempts} times for ${rush_yards} yards and caught ${receptions} of ${rec_targets} targets for ${rec_yards} yards in the ${team}' week ${week} win win the ${opp}\",\n",
       " \" ${player_name} hauled in ${receptions} of ${rec_targets} targets for ${rec_yards} yards in the ${team}' week ${week} win over the ${opp}\",\n",
       " \" ${player_name} rushed ${rush_attempts} times for ${rush_yards} yards and caught ${receptions} of ${rec_targets} targets for ${rec_yards} yards and ${rec_td} touchdowns in the ${team}' week ${week} win over the ${opp}\",\n",
       " \" ${player_name} rushed ${rush_attempts} times for ${rush_yards} yards and a touchdown in the ${team}' week ${week} win ${player_name} the ${opp}\",\n",
       " \" ${player_name} completed of of ${pass_attempts} passes for ${pass_yards} yards with ${pass_td} touchdowns in the ${team}' week ${week} win over the the ${player_name} ${player_name} of of the the in the the week ${week} the in the week week ${player_name} ${player_name} a in the week week ${player_name} ${player_name} in the week ${week} against the ${opp}\",\n",
       " ' ${player_name} rushed ${rush_attempts} times for ${rush_yards} yards and a touchdown in week ${week} against the ${opp}',\n",
       " \" ${player_name} rushed a for ${rec_yards} yards in the of week ${week} of the the ${player_name} ${player_name} a in the ${team}' week ${week} win ${player_name} the ${opp}\",\n",
       " \" ${player_name} completed of of ${game_dow}'s week ${week} win against the ${opp} and and and touchdown in ${game_dow}'s week ${week} win win the the ${opp}\",\n",
       " \" ${player_name} completed ${pass_completions} of ${pass_attempts} passes for ${pass_yards} yards and ${pass_td} touchdowns in the ${team}' week ${week} win over the ${opp}\",\n",
       " ' ${player_name} completed completed of ${rec_targets} week for week loss in the ${opp}',\n",
       " \" ${player_name} rushed ${rush_attempts} times for ${rush_yards} yards and a touchdown in the ${team}' week ${week} win over the ${opp}\",\n",
       " ' ${player_name} completed of of ${pass_attempts} passes for for ${rec_yards} yards with the week ${week} against the ${opp}',\n",
       " \" ${player_name} rushed ${rush_attempts} times for ${rush_yards} yards in the ${team}' week ${week} win over the ${opp}\",\n",
       " ' ${player_name} completed ${pass_completions} of ${pass_attempts} passes for ${pass_yards} yards, ${pass_td}',\n",
       " \" ${player_name} caught ${receptions} of ${rec_targets} targets for ${rec_yards} yards and ${rec_td} touchdowns in the ${team}' week ${week} win over the ${opp}\",\n",
       " ' ${player_name} hauled in ${receptions} of ${rec_targets} targets for ${rec_yards} yards in week ${week} against the ${opp}',\n",
       " \" ${player_name} rushed ${rush_attempts} times for ${rush_yards} yards and caught ${receptions} of ${rec_targets} targets in the ${team}' week ${week} win win the ${opp}\",\n",
       " \" ${player_name} caught ${receptions} of ${rec_targets} targets for ${rec_yards} yards and ${rec_td} touchdowns in the ${team}' week ${week} loss to the ${opp}\",\n",
       " \" ${player_name} rushed ${rush_attempts} ${rush_yards} for ${rush_yards} yards and ${rush_td} touchdowns while catching ${receptions} of ${rec_targets} targets for ${rec_yards} yards and ${rec_td} touchdown in the ${team}' week ${week} win ${player_name} the ${opp}\",\n",
       " \" ${player_name} rushed ${rush_attempts} times for ${rush_yards} yards and ${rush_td} touchdowns in the ${team}' week ${week} win ${player_name} the ${opp}\",\n",
       " ' ${player_name} hauled in ${receptions} of week ${week} ${player_name} ${player_name} caught ${receptions} of week ${week} loss to the ${opp}',\n",
       " \" ${player_name} rushed ${rush_attempts} for ${rush_yards} yards and caught ${receptions} of ${rec_targets} targets for ${rec_yards} yards in the ${team}' week ${week} win over the ${opp}\",\n",
       " \" ${player_name} hauled in ${receptions} of ${rec_targets} targets in the ${team}' week ${week} win over the ${opp}\",\n",
       " \" ${player_name} ${player_name} of of ${rec_targets} ${rec_targets} targets ${rec_yards} the the ${team}' week ${week} win over the ${opp}\",\n",
       " \" ${player_name} caught ${receptions} of ${rec_targets} targets for ${rec_yards} yards and a touchdown in the ${team}' week ${week} win over the ${opp}\",\n",
       " \" ${player_name} completed ${pass_completions} of ${pass_attempts} passes for ${pass_yards} yards, ${pass_td} touchdowns and an interception in the ${team}' week ${week} win over the ${opp}\"]"
      ]
     },
     "execution_count": 71,
     "metadata": {},
     "output_type": "execute_result"
    }
   ],
   "source": [
    "list(set(output))"
   ]
  },
  {
   "cell_type": "code",
   "execution_count": null,
   "metadata": {},
   "outputs": [],
   "source": []
  }
 ],
 "metadata": {
  "kernelspec": {
   "display_name": "Python 3",
   "language": "python",
   "name": "python3"
  },
  "language_info": {
   "codemirror_mode": {
    "name": "ipython",
    "version": 3
   },
   "file_extension": ".py",
   "mimetype": "text/x-python",
   "name": "python",
   "nbconvert_exporter": "python",
   "pygments_lexer": "ipython3",
   "version": "3.6.6"
  }
 },
 "nbformat": 4,
 "nbformat_minor": 2
}
