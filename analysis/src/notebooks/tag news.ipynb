{
 "cells": [
  {
   "cell_type": "code",
   "execution_count": null,
   "metadata": {},
   "outputs": [],
   "source": [
    "import numpy as np\n",
    "import pandas as pd"
   ]
  },
  {
   "cell_type": "code",
   "execution_count": null,
   "metadata": {},
   "outputs": [],
   "source": [
    "players = pd.read_csv('../../data/player_list.csv')\n",
    "weekly_stats = pd.read_csv('../../data/player_stats.csv')\n",
    "news = pd.read_csv('../../data/player_news.csv')"
   ]
  },
  {
   "cell_type": "code",
   "execution_count": null,
   "metadata": {},
   "outputs": [],
   "source": [
    "# Put all player stats and the corresponding news article in one row\n",
    "full_df = players.drop(columns='player_link')\n",
    "temp_df = news.rename(index=str, columns={'date': 'news_date'})\n",
    "temp_df['news_date'] = pd.to_datetime(temp_df['news_date']).dt.date\n",
    "temp_df = temp_df.drop(columns=['player', 'position', 'url'])\n",
    "full_df = pd.merge(full_df, temp_df, on='player_id')\n",
    "temp_df = weekly_stats.rename(index=str, columns={'date': 'stats_date'})\n",
    "temp_df['stats_date'] = pd.to_datetime(temp_df['stats_date']).dt.date\n",
    "temp_df = temp_df.drop(columns='player')\n",
    "full_df = pd.merge(full_df, temp_df, left_on=['player_id', 'news_date'], right_on=['player_id', 'stats_date'])\n",
    "full_df = full_df.drop(columns='stats_date')"
   ]
  },
  {
   "cell_type": "code",
   "execution_count": null,
   "metadata": {},
   "outputs": [],
   "source": [
    "print(full_df.shape)"
   ]
  },
  {
   "cell_type": "code",
   "execution_count": null,
   "metadata": {},
   "outputs": [],
   "source": [
    "full_df.to_csv('../../data/news_and_stats.csv', index=False)"
   ]
  }
 ],
 "metadata": {
  "kernelspec": {
   "display_name": "Python [conda env:fantasy_nlg]",
   "language": "python",
   "name": "conda-env-fantasy_nlg-py"
  },
  "language_info": {
   "codemirror_mode": {
    "name": "ipython",
    "version": 3
   },
   "file_extension": ".py",
   "mimetype": "text/x-python",
   "name": "python",
   "nbconvert_exporter": "python",
   "pygments_lexer": "ipython3",
   "version": "3.5.6"
  }
 },
 "nbformat": 4,
 "nbformat_minor": 2
}
