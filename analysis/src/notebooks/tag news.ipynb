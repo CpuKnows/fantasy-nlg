{
 "cells": [
  {
   "cell_type": "code",
   "execution_count": null,
   "metadata": {},
   "outputs": [],
   "source": [
    "import os\n",
    "import sys\n",
    "module_path = os.path.abspath(os.path.join('../..'))\n",
    "if module_path not in sys.path:\n",
    "    sys.path.append(module_path)"
   ]
  },
  {
   "cell_type": "code",
   "execution_count": null,
   "metadata": {},
   "outputs": [],
   "source": [
    "from collections import Counter\n",
    "from itertools import chain\n",
    "import re\n",
    "from string import Template\n",
    "import ftfy\n",
    "\n",
    "import numpy as np\n",
    "import pandas as pd\n",
    "import spacy"
   ]
  },
  {
   "cell_type": "code",
   "execution_count": null,
   "metadata": {},
   "outputs": [],
   "source": [
    "from src.data_utils import create_news_stats_dataset, create_inverted_news_dict, get_teams\n",
    "from src.spacy_utils import load_spacy_model\n",
    "from src.generate_templates import GenerateTemplates, get_context, get_context_tags"
   ]
  },
  {
   "cell_type": "code",
   "execution_count": null,
   "metadata": {},
   "outputs": [],
   "source": [
    "nlp = load_spacy_model('../../data/teams_aliases.txt', '../../data/player_news.csv')"
   ]
  },
  {
   "cell_type": "code",
   "execution_count": null,
   "metadata": {},
   "outputs": [],
   "source": [
    "#news_stats_df = create_news_stats_dataset('../../data/player_news.csv', '../../data/football_db_player_stats.csv',\n",
    "#                                          '../../data/news_and_stats.csv')\n",
    "news_stats_df = pd.read_csv('../../data/news_and_stats.csv')\n",
    "\n",
    "template_generator = GenerateTemplates(nlp, '../../data/teams_aliases.txt', vectorizer=None, clf=None)"
   ]
  },
  {
   "cell_type": "code",
   "execution_count": null,
   "metadata": {},
   "outputs": [],
   "source": [
    "news_stats_df.head(2)"
   ]
  },
  {
   "cell_type": "code",
   "execution_count": null,
   "metadata": {},
   "outputs": [],
   "source": [
    "token_training_set = template_generator.create_training_data(news_stats_df, '../../data/intermediate_templates.csv')"
   ]
  },
  {
   "cell_type": "code",
   "execution_count": null,
   "metadata": {},
   "outputs": [],
   "source": [
    "context_ngrams = []\n",
    "context_tags = []\n",
    "true_tags = []\n",
    "\n",
    "for sample in token_training_set:\n",
    "    # context ngrams\n",
    "    bigrams = []\n",
    "    for bigram in sample[1]:\n",
    "        if len(bigram) != 0:\n",
    "            bigrams.append(' '.join(bigram))\n",
    "    context_ngrams.append(bigrams)\n",
    "    \n",
    "    # context tags\n",
    "    tags = []\n",
    "    for tag in sample[2]:\n",
    "        if tag is not None:\n",
    "            tags.append(tag)\n",
    "    context_tags.append(tags)\n",
    "    \n",
    "    # True tag\n",
    "    true_tags.append(sample[-1])"
   ]
  },
  {
   "cell_type": "code",
   "execution_count": null,
   "metadata": {},
   "outputs": [],
   "source": [
    "from sklearn.feature_extraction.text import CountVectorizer\n",
    "\n",
    "ngram_vectorizer = CountVectorizer(lowercase=False, tokenizer=lambda d: d, analyzer=lambda d: d)\n",
    "tag_vectorizer = CountVectorizer(lowercase=False, tokenizer=lambda d: d, analyzer=lambda d: d)"
   ]
  },
  {
   "cell_type": "code",
   "execution_count": null,
   "metadata": {},
   "outputs": [],
   "source": [
    "X_ngrams = ngram_vectorizer.fit_transform(context_ngrams)\n",
    "X_tags = tag_vectorizer.fit_transform(context_tags)\n",
    "\n",
    "y_tags = np.array([template_generator.data_col_idx[i] for i in true_tags])\n",
    "print(X_ngrams.shape, X_tags.shape, y_tags.shape)"
   ]
  },
  {
   "cell_type": "code",
   "execution_count": null,
   "metadata": {},
   "outputs": [],
   "source": [
    "from sklearn.naive_bayes import MultinomialNB\n",
    "\n",
    "ngram_clf = MultinomialNB(alpha=0.5)\n",
    "ngram_clf.fit(X_ngrams, y_tags)\n",
    "predictions = ngram_clf.predict(X_ngrams)\n",
    "print('Acc:', np.sum(predictions == y_tags) / len(y_tags))\n",
    "\n",
    "tag_clf = MultinomialNB(alpha=0.5)\n",
    "tag_clf.fit(X_tags, y_tags)\n",
    "predictions = tag_clf.predict(X_tags)\n",
    "print('Acc:', np.sum(predictions == y_tags) / len(y_tags))"
   ]
  },
  {
   "cell_type": "code",
   "execution_count": null,
   "metadata": {},
   "outputs": [],
   "source": [
    "y_true = pd.Series([template_generator.idx_data_col[i] for i in y_tags], name='Actual')\n",
    "y_pred = pd.Series([template_generator.idx_data_col[i] for i in predictions], name='Predicted')\n",
    "pd.crosstab(y_true, y_pred)"
   ]
  },
  {
   "cell_type": "code",
   "execution_count": null,
   "metadata": {},
   "outputs": [],
   "source": [
    "template_generator.create_prediction_func(ngram_vectorizer, ngram_clf)"
   ]
  },
  {
   "cell_type": "code",
   "execution_count": null,
   "metadata": {},
   "outputs": [],
   "source": [
    "template_generator.template_transformer(news_stats_df, '../../data/output_templates.csv')"
   ]
  },
  {
   "cell_type": "code",
   "execution_count": null,
   "metadata": {},
   "outputs": [],
   "source": [
    "temp_df = pd.read_csv('../../data/output_templates.csv')\n",
    "placeholders_qb = Counter()\n",
    "placeholders_rb = Counter()\n",
    "placeholders_wr = Counter()\n",
    "placeholders_te = Counter()\n",
    "\n",
    "\n",
    "for row in temp_df.itertuples():\n",
    "    placeholders_used = [i[2] for i in re.findall(Template(row.templates).pattern, row.templates)]\n",
    "    placeholders_used = list(set(placeholders_used))\n",
    "    placeholders_used.sort()\n",
    "    placeholders_used = str(placeholders_used)\n",
    "    \n",
    "    if row.player_position == 'QB':\n",
    "        placeholders_qb[placeholders_used] += 1\n",
    "    elif row.player_position == 'RB':\n",
    "        placeholders_rb[placeholders_used] += 1\n",
    "    elif row.player_position == 'WR':\n",
    "        placeholders_wr[placeholders_used] += 1\n",
    "    elif row.player_position == 'TE':\n",
    "        placeholders_te[placeholders_used] += 1"
   ]
  }
 ],
 "metadata": {
  "kernelspec": {
   "display_name": "Python [conda env:fantasy_nlg]",
   "language": "python",
   "name": "conda-env-fantasy_nlg-py"
  },
  "language_info": {
   "codemirror_mode": {
    "name": "ipython",
    "version": 3
   },
   "file_extension": ".py",
   "mimetype": "text/x-python",
   "name": "python",
   "nbconvert_exporter": "python",
   "pygments_lexer": "ipython3",
   "version": "3.5.6"
  }
 },
 "nbformat": 4,
 "nbformat_minor": 2
}
