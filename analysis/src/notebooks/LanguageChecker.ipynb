{
 "cells": [
  {
   "cell_type": "code",
   "execution_count": 1,
   "metadata": {},
   "outputs": [],
   "source": [
    "import language_check"
   ]
  },
  {
   "cell_type": "code",
   "execution_count": 21,
   "metadata": {},
   "outputs": [
    {
     "data": {
      "text/plain": [
       "3"
      ]
     },
     "execution_count": 21,
     "metadata": {},
     "output_type": "execute_result"
    }
   ],
   "source": [
    "tool = language_check.LanguageTool('en-US')\n",
    "text = u'A sentecen with a error in the Hitchhiker’s Guide tot he Galaxy'\n",
    "matches = tool.check(text)\n",
    "len(matches)"
   ]
  },
  {
   "cell_type": "code",
   "execution_count": 6,
   "metadata": {},
   "outputs": [
    {
     "data": {
      "text/plain": [
       "(0, 2)"
      ]
     },
     "execution_count": 6,
     "metadata": {},
     "output_type": "execute_result"
    }
   ],
   "source": [
    "matches[0].fromy, matches[0].fromx"
   ]
  },
  {
   "cell_type": "code",
   "execution_count": 22,
   "metadata": {},
   "outputs": [
    {
     "data": {
      "text/plain": [
       "[Match({'fromy': 0, 'fromx': 2, 'toy': 0, 'tox': 10, 'ruleId': 'MORFOLOGIK_RULE_EN_US', 'msg': 'Possible spelling mistake found', 'replacements': ['sentence', 'sentenced', 'sentences'], 'context': 'A sentecen with a error in the Hitchhiker’s Guide ...', 'contextoffset': 2, 'offset': 2, 'errorlength': 8, 'category': 'Possible Typo', 'locqualityissuetype': 'misspelling'}),\n",
       " Match({'fromy': 0, 'fromx': 16, 'toy': 0, 'tox': 17, 'ruleId': 'EN_A_VS_AN', 'msg': \"Use 'an' instead of 'a' if the following word starts with a vowel sound, e.g. 'an article', 'an hour'\", 'replacements': ['an'], 'context': 'A sentecen with a error in the Hitchhiker’s Guide tot he ...', 'contextoffset': 16, 'offset': 16, 'errorlength': 1, 'category': 'Miscellaneous', 'locqualityissuetype': 'misspelling'}),\n",
       " Match({'fromy': 0, 'fromx': 50, 'toy': 0, 'tox': 56, 'ruleId': 'TOT_HE', 'subId': '1', 'msg': \"Did you mean 'to the'?\", 'replacements': ['to the'], 'context': '... with a error in the Hitchhiker’s Guide tot he Galaxy', 'contextoffset': 43, 'offset': 50, 'errorlength': 6, 'category': 'Possible Typo', 'locqualityissuetype': 'misspelling'})]"
      ]
     },
     "execution_count": 22,
     "metadata": {},
     "output_type": "execute_result"
    }
   ],
   "source": [
    "matches"
   ]
  },
  {
   "cell_type": "code",
   "execution_count": 14,
   "metadata": {},
   "outputs": [
    {
     "data": {
      "text/plain": [
       "1"
      ]
     },
     "execution_count": 14,
     "metadata": {},
     "output_type": "execute_result"
    }
   ],
   "source": [
    "text = 'John caught 3 passes for 42 yards and a touchdown against the Sox of 8 targets'\n",
    "matches = tool.check(text)\n",
    "len(matches)"
   ]
  },
  {
   "cell_type": "code",
   "execution_count": 16,
   "metadata": {},
   "outputs": [],
   "source": [
    "import pprint"
   ]
  },
  {
   "cell_type": "code",
   "execution_count": 20,
   "metadata": {},
   "outputs": [
    {
     "name": "stdout",
     "output_type": "stream",
     "text": [
      "[1, 2, 3, [2, 3, 5]]\n"
     ]
    }
   ],
   "source": [
    "pp = pprint.PrettyPrinter()\n",
    "a = [1,2,3,[2,3,5]]\n",
    "pp.pprint(a)\n",
    "pprint.pp"
   ]
  }
 ],
 "metadata": {
  "kernelspec": {
   "display_name": "Python 3",
   "language": "python",
   "name": "python3"
  },
  "language_info": {
   "codemirror_mode": {
    "name": "ipython",
    "version": 3
   },
   "file_extension": ".py",
   "mimetype": "text/x-python",
   "name": "python",
   "nbconvert_exporter": "python",
   "pygments_lexer": "ipython3",
   "version": "3.6.6"
  }
 },
 "nbformat": 4,
 "nbformat_minor": 2
}
