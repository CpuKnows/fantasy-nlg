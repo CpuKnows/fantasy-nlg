{
 "cells": [
  {
   "cell_type": "code",
   "execution_count": null,
   "metadata": {},
   "outputs": [],
   "source": [
    "import json\n",
    "import pandas as pd"
   ]
  },
  {
   "cell_type": "code",
   "execution_count": null,
   "metadata": {},
   "outputs": [],
   "source": [
    "with open('../../data/player_stats.json', 'r') as f:\n",
    "    weekly_stats = []\n",
    "    for line in f:\n",
    "        weekly_stats.append(json.loads(line))\n",
    "        \n",
    "weekly_stats_df = pd.DataFrame(weekly_stats)"
   ]
  },
  {
   "cell_type": "code",
   "execution_count": null,
   "metadata": {},
   "outputs": [],
   "source": [
    "weekly_stats_df['player_id'] = weekly_stats_df['url'].str.extract('([\\d]+)', False)\n",
    "weekly_stats_df['away_game'] = weekly_stats_df['opp'].str.contains('@')\n",
    "weekly_stats_df['opp'] = weekly_stats_df['opp'].str.replace('@', '')\n",
    "weekly_stats_df['date'] = pd.to_datetime(weekly_stats_df['date'] + ' 2018', format='%b %d %Y')"
   ]
  },
  {
   "cell_type": "code",
   "execution_count": null,
   "metadata": {},
   "outputs": [],
   "source": [
    "cols_in_order = ['player_id', 'player', 'date', 'week', 'opp', 'away_game', \n",
    "                 'pass_attempts', 'pass_completions', 'pass_percent',  'pass_yards', 'pass_ya', 'pass_td', 'pass_int',\n",
    "                 'rush_attempts', 'rush_yards', 'rush_avg', 'rush_td', \n",
    "                 'reception', 'rec_yards', 'rec_avg', 'rec_td', \n",
    "                 'fumb_lost', 'ko_ret_td', 'ko_ret_yards', 'punt_ret_td', 'punt_ret_yards']\n",
    "\n",
    "if all([True if col in weekly_stats_df.columns else False for col in cols_in_order]):\n",
    "    weekly_stats_df = weekly_stats_df[cols_in_order]"
   ]
  },
  {
   "cell_type": "code",
   "execution_count": null,
   "metadata": {},
   "outputs": [],
   "source": [
    "for col in weekly_stats_df.loc['pass_attempts' : 'punt_ret_yards']:\n",
    "    weekly_stats_df[col] = weekly_stats_df[col].fillna(0)"
   ]
  },
  {
   "cell_type": "code",
   "execution_count": null,
   "metadata": {},
   "outputs": [],
   "source": [
    "weekly_stats_df.head()"
   ]
  },
  {
   "cell_type": "code",
   "execution_count": null,
   "metadata": {},
   "outputs": [],
   "source": [
    "weekly_stats_df.to_csv('../../data/player_stats.csv', index=False)"
   ]
  }
 ],
 "metadata": {
  "kernelspec": {
   "display_name": "Python [conda env:fantasy_nlg]",
   "language": "python",
   "name": "conda-env-fantasy_nlg-py"
  },
  "language_info": {
   "codemirror_mode": {
    "name": "ipython",
    "version": 3
   },
   "file_extension": ".py",
   "mimetype": "text/x-python",
   "name": "python",
   "nbconvert_exporter": "python",
   "pygments_lexer": "ipython3",
   "version": "3.5.6"
  }
 },
 "nbformat": 4,
 "nbformat_minor": 2
}
