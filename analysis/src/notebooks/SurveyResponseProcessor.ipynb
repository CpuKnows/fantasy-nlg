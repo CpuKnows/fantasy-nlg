{
 "cells": [
  {
   "cell_type": "code",
   "execution_count": 23,
   "metadata": {},
   "outputs": [],
   "source": [
    "import pandas as pd"
   ]
  },
  {
   "cell_type": "code",
   "execution_count": 24,
   "metadata": {},
   "outputs": [],
   "source": [
    "responseFile = \"../../data/survey_responses.xlsx\"\n",
    "targetSheetName = \"data\"\n",
    "origHeader = \"Rotoworld\"\n",
    "genHeader = \"Generated\"\n",
    "\n",
    "qSuffix = \". Which of the following news blurbs do you prefer?\"\n",
    "nQs = 3  # No. of questions "
   ]
  },
  {
   "cell_type": "code",
   "execution_count": 25,
   "metadata": {},
   "outputs": [],
   "source": [
    "responseDf = pd.read_excel(open(responseFile, 'rb'))\n",
    "targetDf = pd.read_excel(open(responseFile, 'rb'), sheet_name=targetSheetName)\n",
    "# responseDf.head()"
   ]
  },
  {
   "cell_type": "code",
   "execution_count": 26,
   "metadata": {},
   "outputs": [],
   "source": [
    "# targetDf.head()"
   ]
  },
  {
   "cell_type": "code",
   "execution_count": 27,
   "metadata": {},
   "outputs": [
    {
     "name": "stdout",
     "output_type": "stream",
     "text": [
      "Rotoworld = 1, Generated = 1, Indifferent = 1\n"
     ]
    }
   ],
   "source": [
    "origVotes = 0\n",
    "genVotes = 0\n",
    "neutralVotes = 0\n",
    "neutral = \"Indifferent\"\n",
    "\n",
    "for nQ in range(nQs):\n",
    "    qHdr = str(nQ+1) + qSuffix\n",
    "    qResponses = responseDf[qHdr]\n",
    "    \n",
    "    for qResponse in qResponses:\n",
    "        if len(targetDf[targetDf[origHeader] == qResponse]):\n",
    "            origVotes += 1\n",
    "        elif len(targetDf[targetDf[genHeader] == qResponse]):\n",
    "            genVotes += 1\n",
    "        elif qResponse == neutral:\n",
    "            neutralVotes += 1\n",
    "        else:\n",
    "            print(\"Could not parse response: \", qResponse)\n",
    "print(\"%s = %d, %s = %d, %s = %d\" %(origHeader, origVotes, genHeader, genVotes, neutral, neutralVotes))"
   ]
  }
 ],
 "metadata": {
  "kernelspec": {
   "display_name": "Python 3",
   "language": "python",
   "name": "python3"
  },
  "language_info": {
   "codemirror_mode": {
    "name": "ipython",
    "version": 3
   },
   "file_extension": ".py",
   "mimetype": "text/x-python",
   "name": "python",
   "nbconvert_exporter": "python",
   "pygments_lexer": "ipython3",
   "version": "3.6.6"
  }
 },
 "nbformat": 4,
 "nbformat_minor": 2
}
