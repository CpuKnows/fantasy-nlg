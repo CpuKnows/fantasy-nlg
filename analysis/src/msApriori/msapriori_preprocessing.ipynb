{
 "cells": [
  {
   "cell_type": "code",
   "execution_count": 5,
   "metadata": {},
   "outputs": [],
   "source": [
    "import numpy as np\n",
    "import pandas as pd\n",
    "import re"
   ]
  },
  {
   "cell_type": "code",
   "execution_count": 6,
   "metadata": {},
   "outputs": [],
   "source": [
    "filepath = \"C:/Users/vaibh/Source/Repos/fantasy-nlg/analysis/data/output_chunked.csv\"\n",
    "\n",
    "# Workaround to load variable length rows using pandas (missing values will be NaN)\n",
    "my_cols = [\"A\", \"B\", \"C\", \"D\", \"E\", \"F\", \"G\"]\n",
    "df = pd.read_csv(filepath, encoding = \"ISO-8859-1\", names=my_cols)"
   ]
  },
  {
   "cell_type": "code",
   "execution_count": 60,
   "metadata": {},
   "outputs": [
    {
     "name": "stdout",
     "output_type": "stream",
     "text": [
      "2\n"
     ]
    }
   ],
   "source": [
    "tagIdDict = {}\n",
    "inverseTagIdDict = {}  # Used for lookup for resolving later\n",
    "bucket = []\n",
    "rgx = re.compile('\\${.*?}')\n",
    "tagId = 0\n",
    "for i in range(len(df)):\n",
    "    currentBucket = []\n",
    "    for col in my_cols:\n",
    "        chunk = df[col][i]\n",
    "        if pd.isnull(chunk): continue\n",
    "        tags = rgx.findall(chunk)\n",
    "        if len(tags) > 0:\n",
    "            tag = ''.join(tags)\n",
    "            if tag in tagIdDict:\n",
    "                tagId = tagIdDict[tag]\n",
    "            else:\n",
    "                tagId += 1\n",
    "                tagIdDict[tag] = tagId\n",
    "                inverseTagIdDict[tagId] = tag\n",
    "            currentBucket.append(tagId)\n",
    "    bucket.append(currentBucket)\n"
   ]
  },
  {
   "cell_type": "code",
   "execution_count": 8,
   "metadata": {},
   "outputs": [],
   "source": [
    "from msApriori import MSapriori"
   ]
  },
  {
   "cell_type": "code",
   "execution_count": 62,
   "metadata": {},
   "outputs": [],
   "source": [
    "F, I = MSapriori(bucket, 0.4)"
   ]
  },
  {
   "cell_type": "code",
   "execution_count": 61,
   "metadata": {},
   "outputs": [
    {
     "data": {
      "text/plain": [
       "'${temp_var_1}${receptions}'"
      ]
     },
     "execution_count": 61,
     "metadata": {},
     "output_type": "execute_result"
    }
   ],
   "source": [
    "inverseTagIdDict[2]"
   ]
  },
  {
   "cell_type": "code",
   "execution_count": 63,
   "metadata": {},
   "outputs": [
    {
     "data": {
      "text/plain": [
       "[[[2], [3], [4], [5]],\n",
       " [[2, 3], [2, 4], [2, 5], [3, 4], [3, 5], [4, 5]],\n",
       " [[2, 3, 4], [2, 3, 5], [2, 4, 5], [3, 4, 5]],\n",
       " [[2, 3, 4, 5]],\n",
       " []]"
      ]
     },
     "execution_count": 63,
     "metadata": {},
     "output_type": "execute_result"
    }
   ],
   "source": [
    "F"
   ]
  },
  {
   "cell_type": "code",
   "execution_count": 64,
   "metadata": {},
   "outputs": [],
   "source": [
    "def resolveFks(Fks):\n",
    "    # Brute force for now\n",
    "    for i in range(len(Fks)):\n",
    "        for j in range(len(Fks[i])):\n",
    "            for k in range(len(Fks[i][j])):\n",
    "                print(Fks[i][j][k], end=\"\")\n",
    "                Fks[i][j][k] = inverseTagIdDict[Fks[i][j][k]]"
   ]
  },
  {
   "cell_type": "code",
   "execution_count": 65,
   "metadata": {},
   "outputs": [
    {
     "name": "stdout",
     "output_type": "stream",
     "text": [
      "23452324253435452342352453452345"
     ]
    },
    {
     "data": {
      "text/plain": [
       "[[['${temp_var_1}${receptions}'],\n",
       "  ['${pass_yards}${temp_var_1}${rush_yards}'],\n",
       "  ['${pass_td}${pass_int}${rush_yards}'],\n",
       "  ['${team}${player_position}${player_name}${pass_completions}']],\n",
       " [['${temp_var_1}${receptions}', '${pass_yards}${temp_var_1}${rush_yards}'],\n",
       "  ['${temp_var_1}${receptions}', '${pass_td}${pass_int}${rush_yards}'],\n",
       "  ['${temp_var_1}${receptions}',\n",
       "   '${team}${player_position}${player_name}${pass_completions}'],\n",
       "  ['${pass_yards}${temp_var_1}${rush_yards}',\n",
       "   '${pass_td}${pass_int}${rush_yards}'],\n",
       "  ['${pass_yards}${temp_var_1}${rush_yards}',\n",
       "   '${team}${player_position}${player_name}${pass_completions}'],\n",
       "  ['${pass_td}${pass_int}${rush_yards}',\n",
       "   '${team}${player_position}${player_name}${pass_completions}']],\n",
       " [['${temp_var_1}${receptions}',\n",
       "   '${pass_yards}${temp_var_1}${rush_yards}',\n",
       "   '${pass_td}${pass_int}${rush_yards}'],\n",
       "  ['${temp_var_1}${receptions}',\n",
       "   '${pass_yards}${temp_var_1}${rush_yards}',\n",
       "   '${team}${player_position}${player_name}${pass_completions}'],\n",
       "  ['${temp_var_1}${receptions}',\n",
       "   '${pass_td}${pass_int}${rush_yards}',\n",
       "   '${team}${player_position}${player_name}${pass_completions}'],\n",
       "  ['${pass_yards}${temp_var_1}${rush_yards}',\n",
       "   '${pass_td}${pass_int}${rush_yards}',\n",
       "   '${team}${player_position}${player_name}${pass_completions}']],\n",
       " [['${temp_var_1}${receptions}',\n",
       "   '${pass_yards}${temp_var_1}${rush_yards}',\n",
       "   '${pass_td}${pass_int}${rush_yards}',\n",
       "   '${team}${player_position}${player_name}${pass_completions}']],\n",
       " []]"
      ]
     },
     "execution_count": 65,
     "metadata": {},
     "output_type": "execute_result"
    }
   ],
   "source": [
    "resolveFks(F)\n",
    "F"
   ]
  },
  {
   "cell_type": "code",
   "execution_count": 16,
   "metadata": {},
   "outputs": [
    {
     "ename": "TypeError",
     "evalue": "unhashable type: 'list'",
     "output_type": "error",
     "traceback": [
      "\u001b[1;31m---------------------------------------------------------------------------\u001b[0m",
      "\u001b[1;31mTypeError\u001b[0m                                 Traceback (most recent call last)",
      "\u001b[1;32m<ipython-input-16-d323639b31b0>\u001b[0m in \u001b[0;36m<module>\u001b[1;34m()\u001b[0m\n\u001b[1;32m----> 1\u001b[1;33m \u001b[0mF\u001b[0m\u001b[1;33m[\u001b[0m\u001b[1;36m0\u001b[0m\u001b[1;33m]\u001b[0m \u001b[1;33m=\u001b[0m \u001b[0minverseTagIdDict\u001b[0m\u001b[1;33m[\u001b[0m\u001b[0mF\u001b[0m\u001b[1;33m[\u001b[0m\u001b[1;36m0\u001b[0m\u001b[1;33m]\u001b[0m\u001b[1;33m]\u001b[0m\u001b[1;33m\u001b[0m\u001b[0m\n\u001b[0m",
      "\u001b[1;31mTypeError\u001b[0m: unhashable type: 'list'"
     ]
    }
   ],
   "source": [
    "F[0] = inverseTagIdDict[F[0]]"
   ]
  }
 ],
 "metadata": {
  "kernelspec": {
   "display_name": "Python 3",
   "language": "python",
   "name": "python3"
  },
  "language_info": {
   "codemirror_mode": {
    "name": "ipython",
    "version": 3
   },
   "file_extension": ".py",
   "mimetype": "text/x-python",
   "name": "python",
   "nbconvert_exporter": "python",
   "pygments_lexer": "ipython3",
   "version": "3.6.6"
  }
 },
 "nbformat": 4,
 "nbformat_minor": 2
}
